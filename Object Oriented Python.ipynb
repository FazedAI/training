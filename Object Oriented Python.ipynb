{
 "cells": [
  {
   "cell_type": "markdown",
   "metadata": {},
   "source": [
    "Object Oriented Programming\n",
    "\n",
    "Classes are used in the context of object-oriented programming.\n",
    "Think of object as collections of both data and the methods that operate on that data.\n",
    "Objects are the core things that the Python programs manipulate. Every object has a type that defines the kinds things that a program can do with that object."
   ]
  },
  {
   "cell_type": "markdown",
   "metadata": {},
   "source": [
    "An abstract data type is a set of objects and the operations on those objects."
   ]
  },
  {
   "cell_type": "code",
   "execution_count": 2,
   "metadata": {},
   "outputs": [],
   "source": [
    "class Person(object):\n",
    "    def __init__(self, name):\n",
    "        self.name = name\n",
    "        try:\n",
    "            lastBlank = name.rindex(' ')\n",
    "            self.lastName = name[lastBlank+1:]\n",
    "        except:\n",
    "            self.lastName = name\n",
    "            \n",
    "    def getName(self):\n",
    "        \"\"\"Returns self's full name\"\"\"\n",
    "        return self.name\n",
    "    \n",
    "    def getLastName(self):\n",
    "        \"\"\"Returns self's last name\"\"\"\n",
    "        return self.lastName\n",
    "    \n",
    "    def __lt__(self, other):\n",
    "        \"\"\"Returns True if self precedes other in alphabetical order, and False otherwise. Comparision is based on last names,\n",
    "        but if these are the same full names are compared.\"\"\"\n",
    "        if self.lastName == other.lastName:\n",
    "            return self.name < other.name\n",
    "        else:\n",
    "            return self.lastName < other.lastName\n",
    "        \n",
    "    def __str__(self):\n",
    "        \"\"\"Returns self's name\"\"\"\n",
    "        return self.name"
   ]
  },
  {
   "cell_type": "markdown",
   "metadata": {},
   "source": [
    "When a function definiton occurs within a class definition, the defined function is called a method and is associated with the class. These are also known as method attributes.\n",
    "\n",
    "Instantiation is used to create instances of the class. For example, statement s = IntSet() create a new object of type IntSet.  This object is called instance of IntSet.\n",
    "\n",
    "Attribute references use dot notation to access attributes associated with the class. For example, s.member refers to the method member associated with the instance s of type IntSet.\n",
    "\n",
    "Whenever a class is instantiated, a call is made to the __init__ method defined in that class.\n",
    "\n",
    "self represents the instance of the class. By using the “self” keyword we can access the attributes and methods of the class in python. It binds the attributes with the given arguments.\n",
    "\n",
    "__str__ is a method which is called when the instance of that object is called in print statement.\n",
    "__lt__ method is used to overload the < operator.\n",
    "Similarly, __gt__ is used to overload the > operator.\n",
    "\n",
    "\n",
    "Operator Overloading\n",
    "\n",
    "Binary Operators:\n",
    "\n",
    "+\t__add__(self, other)\n",
    "–\t__sub__(self, other)\n",
    "*\t__mul__(self, other)\n",
    "/\t__truediv__(self, other)\n",
    "//\t__floordiv__(self, other)\n",
    "%\t__mod__(self, other)\n",
    "**\t__pow__(self, other)\n",
    "\n",
    "Comparision Operator:\n",
    "\n",
    "<\t__lt__(self, other)\n",
    ">\t__gt__(self, other)\n",
    "<=\t__le__(self, other)\n",
    ">=\t__ge__(self, other)\n",
    "==\t__eq__(self, other)\n",
    "!=\t__ne__(self, other)\n",
    "\n",
    "Assignment Operator:\n",
    "\n",
    "-=\t__isub__(self, other)\n",
    "+=\t__iadd__(self, other)\n",
    "*=\t__imul__(self, other)\n",
    "/=\t__idiv__(self, other)\n",
    "//=\t__ifloordiv__(self, other)\n",
    "%=\t__imod__(self, other)\n",
    "**=\t__ipow__(self, other)\n",
    "\n",
    "Unary Operator:\n",
    "\n",
    "–\t__neg__(self, other)\n",
    "+\t__pos__(self, other)\n",
    "~\t__invert__(self, other)"
   ]
  },
  {
   "cell_type": "code",
   "execution_count": 9,
   "metadata": {},
   "outputs": [
    {
     "name": "stdout",
     "output_type": "stream",
     "text": [
      "Obama\n",
      "Barack Hussein Obama\n"
     ]
    }
   ],
   "source": [
    "me = Person('Yash Saini')\n",
    "him = Person('Barack Hussein Obama')\n",
    "her = Person('Madonna')\n",
    "print(him.getLastName())\n",
    "print(him)"
   ]
  },
  {
   "cell_type": "markdown",
   "metadata": {},
   "source": [
    "Inheritance\n",
    "\n",
    "Inheritance provides a convenient mechanism for building groups of related abstraction. It allows to create a type hierarchy in which each type inherits attributes from the type above it in the hierarchy.\n",
    "\n",
    "The class object is at the top of the hierarchy."
   ]
  },
  {
   "cell_type": "code",
   "execution_count": 18,
   "metadata": {},
   "outputs": [],
   "source": [
    "class Student(Person):\n",
    "    admNo = 1            #Class Variable\n",
    "    def __init__(self, name):\n",
    "        Person.__init__(self, name)\n",
    "        self.admNo = Student.admNo        #Instance Variable\n",
    "        Student.admNo += 1\n",
    "        \n",
    "    def getAdmNo(self):\n",
    "        return self.admNo\n",
    "    \n",
    "    def __lt__(self, other):\n",
    "        return self.admNo < other.admNo\n",
    "    \n",
    "    def __str__(self):\n",
    "        out = Person.__str__(self) + \"'s adm no is: \" + str(self.admNo)\n",
    "        return out"
   ]
  },
  {
   "cell_type": "markdown",
   "metadata": {},
   "source": [
    "In the above code Student is a subclass of Person, and therefore inherits the attributes of its superclass.\n",
    "\n",
    "In order of what it can inherit it can, the subclass can:\n",
    "1. Add new attributes.\n",
    "2. Override attributes of superclass. For ex. Student override the method __init__, __lt__ & __str__."
   ]
  },
  {
   "cell_type": "code",
   "execution_count": 19,
   "metadata": {},
   "outputs": [
    {
     "name": "stdout",
     "output_type": "stream",
     "text": [
      "Yash Saini's adm no is: 1\n"
     ]
    }
   ],
   "source": [
    "s1 = Student('Yash Saini')\n",
    "print(s1)"
   ]
  },
  {
   "cell_type": "markdown",
   "metadata": {},
   "source": [
    "Similarly we can create multiple level inheritance by creating a class that inherits features from the Student class.\n",
    "But one thing should be noted that, a child class can use the methods of its parents but the parent class can never use the methods of the child class.\n",
    "\n",
    "Encapsulation:- Encapsulation means building together of data and attributes and the methods for operating on them\n",
    "\n",
    "Information hiding:- It means hiding the details of the implementation of class. \n",
    "\n",
    "In python we can declare the variable to be private by using '_' before the variable name. Now that variable can only be accessed by the class methods, and not from outside the class."
   ]
  },
  {
   "cell_type": "markdown",
   "metadata": {},
   "source": [
    "Exception and Exception Handling\n",
    "\n",
    "Exceptions are the run time anamolies. When an exception is raised that causes the program termination.\n",
    "Consider the below code"
   ]
  },
  {
   "cell_type": "code",
   "execution_count": 20,
   "metadata": {},
   "outputs": [
    {
     "ename": "ZeroDivisionError",
     "evalue": "division by zero",
     "output_type": "error",
     "traceback": [
      "\u001b[1;31m---------------------------------------------------------------------------\u001b[0m",
      "\u001b[1;31mZeroDivisionError\u001b[0m                         Traceback (most recent call last)",
      "\u001b[1;32m<ipython-input-20-ee8672cd3868>\u001b[0m in \u001b[0;36m<module>\u001b[1;34m()\u001b[0m\n\u001b[0;32m      1\u001b[0m \u001b[0mnumSuccesses\u001b[0m \u001b[1;33m=\u001b[0m \u001b[1;36m10\u001b[0m\u001b[1;33m\u001b[0m\u001b[0m\n\u001b[0;32m      2\u001b[0m \u001b[0mnumFailures\u001b[0m \u001b[1;33m=\u001b[0m \u001b[1;36m0\u001b[0m\u001b[1;33m\u001b[0m\u001b[0m\n\u001b[1;32m----> 3\u001b[1;33m \u001b[0msuccessFailureRatio\u001b[0m \u001b[1;33m=\u001b[0m \u001b[0mnumSuccesses\u001b[0m\u001b[1;33m/\u001b[0m\u001b[0mnumFailures\u001b[0m\u001b[1;33m\u001b[0m\u001b[0m\n\u001b[0m\u001b[0;32m      4\u001b[0m \u001b[0mprint\u001b[0m\u001b[1;33m(\u001b[0m\u001b[1;34m'The success/failure ratio is'\u001b[0m\u001b[1;33m,\u001b[0m \u001b[0msuccessFailureRatio\u001b[0m\u001b[1;33m)\u001b[0m\u001b[1;33m\u001b[0m\u001b[0m\n",
      "\u001b[1;31mZeroDivisionError\u001b[0m: division by zero"
     ]
    }
   ],
   "source": [
    "numSuccesses = 10\n",
    "numFailures = 0\n",
    "successFailureRatio = numSuccesses/numFailures\n",
    "print('The success/failure ratio is', successFailureRatio)"
   ]
  },
  {
   "cell_type": "markdown",
   "metadata": {},
   "source": [
    "This code will work fine if numFailures is a non-zero number.\n",
    "Since it is zero the ZeroDivisionError Exception is raised which terminated the further execution of the program.\n",
    "\n",
    "We can handle such exceptions by using the except keyword."
   ]
  },
  {
   "cell_type": "code",
   "execution_count": 22,
   "metadata": {},
   "outputs": [
    {
     "name": "stdout",
     "output_type": "stream",
     "text": [
      "Enter an integer: k\n",
      "k is not an integer\n",
      "Enter an integer: h\n",
      "h is not an integer\n",
      "Enter an integer: j\n",
      "j is not an integer\n",
      "Enter an integer: 5\n",
      "The square of the number you entered is 25\n"
     ]
    }
   ],
   "source": [
    "while True:\n",
    "    val = input('Enter an integer: ')\n",
    "    try:\n",
    "        val = int(val)\n",
    "        print('The square of the number you entered is', val**2)\n",
    "        break\n",
    "    except ValueError:\n",
    "        print(str(val), 'is not an integer')"
   ]
  },
  {
   "cell_type": "raw",
   "metadata": {},
   "source": [
    "If we enter the non integer value i.e. string, the conversion int(val) raises an Value Error because string cannot be converted to integer.\n",
    "To handle this exception we defined the except block which takes over the execution and continues running the program.\n",
    "\n",
    "We can also raise errors by using raise keyword."
   ]
  },
  {
   "cell_type": "code",
   "execution_count": 25,
   "metadata": {},
   "outputs": [
    {
     "ename": "ValueError",
     "evalue": "Not an integer",
     "output_type": "error",
     "traceback": [
      "\u001b[1;31m---------------------------------------------------------------------------\u001b[0m",
      "\u001b[1;31mValueError\u001b[0m                                Traceback (most recent call last)",
      "\u001b[1;32m<ipython-input-25-b40ab63225e7>\u001b[0m in \u001b[0;36m<module>\u001b[1;34m()\u001b[0m\n\u001b[1;32m----> 1\u001b[1;33m \u001b[1;32mraise\u001b[0m \u001b[0mValueError\u001b[0m\u001b[1;33m(\u001b[0m\u001b[1;34m'Not an integer'\u001b[0m\u001b[1;33m)\u001b[0m\u001b[1;33m\u001b[0m\u001b[0m\n\u001b[0m",
      "\u001b[1;31mValueError\u001b[0m: Not an integer"
     ]
    }
   ],
   "source": [
    "raise ValueError('Not an integer')"
   ]
  }
 ],
 "metadata": {
  "kernelspec": {
   "display_name": "Python 3",
   "language": "python",
   "name": "python3"
  },
  "language_info": {
   "codemirror_mode": {
    "name": "ipython",
    "version": 3
   },
   "file_extension": ".py",
   "mimetype": "text/x-python",
   "name": "python",
   "nbconvert_exporter": "python",
   "pygments_lexer": "ipython3",
   "version": "3.6.5"
  }
 },
 "nbformat": 4,
 "nbformat_minor": 2
}
